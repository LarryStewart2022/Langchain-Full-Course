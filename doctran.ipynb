{
 "cells": [
  {
   "cell_type": "code",
   "execution_count": null,
   "metadata": {},
   "outputs": [],
   "source": [
    "!pip install doctran\n",
    "!pip install langchain"
   ]
  },
  {
   "cell_type": "code",
   "execution_count": null,
   "metadata": {},
   "outputs": [],
   "source": [
    "from dotenv import load_dotenv\n",
    "load_dotenv()"
   ]
  },
  {
   "cell_type": "code",
   "execution_count": null,
   "metadata": {},
   "outputs": [],
   "source": [
    "from langchain.schema import Document\n",
    "import json"
   ]
  },
  {
   "cell_type": "code",
   "execution_count": null,
   "metadata": {},
   "outputs": [],
   "source": [
    "complaint_email_content = \"\"\"\n",
    "Dear Mustang Motors Team,\n",
    "\n",
    "I'm writing to express my dissatisfaction with a recent car purchase (Mustang GT). Regrettably, the car hasn't lived up to my expectations, and I would like to request a refund.\n",
    "\n",
    "The car's functionality and performance have not matched the quality advertised through your marketing initiatives and previous customer testimonials. The innovative design and features, as touted by your R&D department, seem inconsistent with the actual vehicle.\n",
    "\n",
    "Could you please guide me through the refund process? I trust in your ability to resolve this issue promptly and satisfactorily.\n",
    "\n",
    "Thank you for your attention to this matter.\n",
    "\n",
    "Best regards,\n",
    "\n",
    "Max Müller\n",
    "\"\"\""
   ]
  },
  {
   "cell_type": "code",
   "execution_count": null,
   "metadata": {},
   "outputs": [],
   "source": [
    "from langchain.document_transformers import DoctranPropertyExtractor\n",
    "\n",
    "documents = [Document(page_content=complaint_email_content)]\n",
    "properties = [\n",
    "    {\n",
    "        \"name\": \"category\",\n",
    "        \"description\": \"The type of email this is.\",\n",
    "        \"type\": \"string\",\n",
    "        \"enum\": [\"complaint\", \"refund_request\", \"product_feedback\", \"customer_service\", \"other\"],\n",
    "        \"required\": True,\n",
    "    },\n",
    "    {\n",
    "        \"name\": \"mentioned_product\",\n",
    "        \"description\": \"The product mentioned in this email.\",\n",
    "        \"type\": \"string\",\n",
    "        \"required\": True,\n",
    "    },\n",
    "    {\n",
    "        \"name\": \"issue_description\",\n",
    "        \"description\": \"A brief explanation of the problem encountered with the product.\",\n",
    "        \"type\": \"string\",\n",
    "        \"required\": True,\n",
    "    }\n",
    "]\n",
    "property_extractor = DoctranPropertyExtractor(properties=properties, openai_api_model=\"gpt-3.5-turbo\")\n"
   ]
  },
  {
   "cell_type": "code",
   "execution_count": null,
   "metadata": {},
   "outputs": [],
   "source": [
    "extracted_document = await property_extractor.atransform_documents(\n",
    "    documents, properties=properties\n",
    ")\n",
    "print(json.dumps(extracted_document[0].metadata, indent=2))"
   ]
  },
  {
   "cell_type": "code",
   "execution_count": null,
   "metadata": {},
   "outputs": [],
   "source": [
    "from langchain.schema import Document\n",
    "from langchain.document_transformers import DoctranQATransformer\n"
   ]
  },
  {
   "cell_type": "code",
   "execution_count": null,
   "metadata": {},
   "outputs": [],
   "source": [
    "documents = [Document(page_content=complaint_email_content)]\n",
    "qa_transformer = DoctranQATransformer(openai_api_model=\"gpt-3.5-turbo\")\n",
    "transformed_document = await qa_transformer.atransform_documents(documents)"
   ]
  },
  {
   "cell_type": "code",
   "execution_count": null,
   "metadata": {},
   "outputs": [],
   "source": [
    "print(json.dumps(transformed_document[0].metadata, indent=2))"
   ]
  },
  {
   "cell_type": "code",
   "execution_count": null,
   "metadata": {},
   "outputs": [],
   "source": [
    "from langchain.document_transformers import DoctranTextTranslator"
   ]
  },
  {
   "cell_type": "code",
   "execution_count": null,
   "metadata": {},
   "outputs": [],
   "source": [
    "documents = [Document(page_content=complaint_email_content)]\n",
    "qa_translator = DoctranTextTranslator(language=\"german\", openai_api_model=\"gpt-3.5-turbo\")"
   ]
  },
  {
   "cell_type": "code",
   "execution_count": null,
   "metadata": {},
   "outputs": [],
   "source": [
    "translated_document = await qa_translator.atransform_documents(documents)\n",
    "translated_document[0].page_content"
   ]
  }
 ],
 "metadata": {
  "kernelspec": {
   "display_name": "Python 3",
   "language": "python",
   "name": "python3"
  },
  "language_info": {
   "codemirror_mode": {
    "name": "ipython",
    "version": 3
   },
   "file_extension": ".py",
   "mimetype": "text/x-python",
   "name": "python",
   "nbconvert_exporter": "python",
   "pygments_lexer": "ipython3",
   "version": "3.11.0"
  },
  "orig_nbformat": 4
 },
 "nbformat": 4,
 "nbformat_minor": 2
}
